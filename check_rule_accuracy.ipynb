{
 "cells": [
  {
   "cell_type": "code",
   "execution_count": 15,
   "metadata": {},
   "outputs": [
    {
     "data": {
      "text/html": [
       "<style>.container { width:85% !important; }</style>"
      ],
      "text/plain": [
       "<IPython.core.display.HTML object>"
      ]
     },
     "metadata": {},
     "output_type": "display_data"
    }
   ],
   "source": [
    "from IPython.core.display import display, HTML\n",
    "display(HTML(\"<style>.container { width:85% !important; }</style>\"))"
   ]
  },
  {
   "cell_type": "code",
   "execution_count": 16,
   "metadata": {},
   "outputs": [],
   "source": [
    "import pandas as pd\n",
    "import numpy as np\n",
    "import re\n",
    "from random import sample\n",
    "import string\n",
    "import csv"
   ]
  },
  {
   "cell_type": "code",
   "execution_count": 17,
   "metadata": {},
   "outputs": [],
   "source": [
    "alphabet = list(string.ascii_uppercase)\n",
    "file_names = [letter + \"word.csv\" for letter in alphabet]"
   ]
  },
  {
   "cell_type": "code",
   "execution_count": 18,
   "metadata": {},
   "outputs": [],
   "source": [
    "def csv_to_list(file_name):\n",
    "    words = []\n",
    "    with open(file_name) as csvfile:\n",
    "        csv_reader = csv.reader(csvfile)\n",
    "        for row in csv_reader:\n",
    "            if row != []:\n",
    "                word = row[0].strip()\n",
    "                if '\\n' in word:\n",
    "                    split_list = word.split(' \\n')\n",
    "                    for fixed_word in split_list:\n",
    "                        words.append(fixed_word)\n",
    "                else:        \n",
    "                    words.append(word)\n",
    "    return words"
   ]
  },
  {
   "cell_type": "code",
   "execution_count": 19,
   "metadata": {},
   "outputs": [],
   "source": [
    "all_words = []\n",
    "for file in file_names:\n",
    "    all_words.extend(csv_to_list(file))"
   ]
  },
  {
   "cell_type": "code",
   "execution_count": 20,
   "metadata": {},
   "outputs": [],
   "source": [
    "ie_or_ei_words = [word for word in all_words if 'ie' in word or 'ei' in word]"
   ]
  },
  {
   "cell_type": "code",
   "execution_count": 21,
   "metadata": {
    "scrolled": true
   },
   "outputs": [
    {
     "data": {
      "text/plain": [
       "5171"
      ]
     },
     "execution_count": 21,
     "metadata": {},
     "output_type": "execute_result"
    }
   ],
   "source": [
    "len(ie_or_ei_words)"
   ]
  },
  {
   "cell_type": "code",
   "execution_count": 37,
   "metadata": {},
   "outputs": [
    {
     "name": "stdout",
     "output_type": "stream",
     "text": [
      "nereid: rule is bad\n",
      "disbelieved: rule is good\n",
      "perceive: rule is good\n",
      "heterogeneity: rule is bad\n",
      "qualifiedly: rule is good\n",
      "degloried: rule is good\n",
      "reimprison: rule is bad\n",
      "anxiety: rule is good\n",
      "oeillade: rule is bad\n",
      "seizable: rule is bad\n",
      "dropsied: rule is good\n",
      "preindispose: rule is bad\n",
      "brief: rule is good\n",
      "eisteddfod: rule is bad\n",
      "snowshoeing: rule is bad\n",
      "ditheism: rule is bad\n",
      "brachioganoidei: rule is good\n",
      "abilities: rule is good\n",
      "reinvestigate: rule is bad\n",
      "tried: rule is good\n",
      "gie: rule is good\n",
      "weighing: rule is bad\n",
      "stories: rule is good\n",
      "juries: rule is good\n",
      "premiership: rule is good\n",
      "neighborliness: rule is bad\n",
      "messieurs: rule is good\n",
      "reigning: rule is bad\n",
      "aerie: rule is good\n",
      "beardie: rule is good\n",
      "reign: rule is bad\n",
      "transient: rule is good\n",
      "salient: rule is good\n",
      "frieze: rule is good\n",
      "surfeiter: rule is bad\n",
      "driest: rule is good\n",
      "water soldier: rule is good\n",
      "sea pie: rule is good\n",
      "fairies: rule is good\n",
      "crosspiece: rule is bad\n"
     ]
    }
   ],
   "source": [
    "test_list = sample(ie_or_ei_words,40)\n",
    "for word in test_list:\n",
    "    if 'ie' in word:\n",
    "        if bool(re.search(\"c\\w*ie\",word)):\n",
    "            print(word + ': rule is bad')\n",
    "        else: \n",
    "            print(word + ': rule is good')\n",
    "    else:\n",
    "        if bool(re.search(\"c\\w*ei\",word)):\n",
    "            print(word + ': rule is good')\n",
    "        else:\n",
    "            print(word + ': rule is bad')\n",
    "    "
   ]
  },
  {
   "cell_type": "code",
   "execution_count": 23,
   "metadata": {},
   "outputs": [],
   "source": [
    "bad_rule_counter = 0\n",
    "good_rule_counter = 0\n",
    "for word in ie_or_ei_words:\n",
    "    if 'ie' in word:\n",
    "        if bool(re.search(\"c\\w*ie\",word)):\n",
    "            bad_rule_counter += 1\n",
    "        else: \n",
    "            good_rule_counter += 1           \n",
    "    else:\n",
    "        if bool(re.search(\"c\\w*ei\",word)):\n",
    "            good_rule_counter += 1 \n",
    "        else:\n",
    "            bad_rule_counter += 1\n",
    "            "
   ]
  },
  {
   "cell_type": "code",
   "execution_count": 24,
   "metadata": {},
   "outputs": [
    {
     "name": "stdout",
     "output_type": "stream",
     "text": [
      "Followed The Rule: 3179\n",
      "Did Not Follow The Rule: 1992\n",
      "Percentage of Times Rule is Right: 61.47747050860568%\n"
     ]
    }
   ],
   "source": [
    "print('Followed The Rule:',good_rule_counter)\n",
    "print('Did Not Follow The Rule:',bad_rule_counter)\n",
    "\n",
    "ratio = (good_rule_counter/(good_rule_counter+bad_rule_counter))*100\n",
    "print(\"Percentage of Times Rule is Right:\",str(ratio) + '%')"
   ]
  },
  {
   "cell_type": "code",
   "execution_count": null,
   "metadata": {},
   "outputs": [],
   "source": []
  }
 ],
 "metadata": {
  "kernelspec": {
   "display_name": "Python 3",
   "language": "python",
   "name": "python3"
  },
  "language_info": {
   "codemirror_mode": {
    "name": "ipython",
    "version": 3
   },
   "file_extension": ".py",
   "mimetype": "text/x-python",
   "name": "python",
   "nbconvert_exporter": "python",
   "pygments_lexer": "ipython3",
   "version": "3.7.4"
  }
 },
 "nbformat": 4,
 "nbformat_minor": 2
}
